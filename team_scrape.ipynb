{
 "cells": [
  {
   "cell_type": "code",
   "execution_count": 239,
   "metadata": {},
   "outputs": [],
   "source": [
    "import requests as reqs\n",
    "import numpy as np\n",
    "import pandas as pd\n",
    "from bs4 import BeautifulSoup as BS\n",
    "import matplotlib.pyplot as plt"
   ]
  },
  {
   "cell_type": "code",
   "execution_count": 240,
   "metadata": {},
   "outputs": [],
   "source": [
    "ou_url = 'https://soonersports.com/sports/football/roster?sort=jersey'\n",
    "soup = BS(reqs.get(ou_url).content, 'html.parser')"
   ]
  },
  {
   "cell_type": "code",
   "execution_count": 241,
   "metadata": {},
   "outputs": [],
   "source": [
    "jerseys = [int(i.text) for i in soup.select('div.s-stamp>span.s-stamp__text')]\n",
    "names = [i.text for i in soup.select('div.s-person-details__personal>div>a>span')]\n",
    "positions = [i.text for i in soup.select('div.s-person-details__bio-stats>span')[0::4]]\n",
    "levels = [i.text for i in soup.select('div.s-person-details__bio-stats>span')[1::4]]\n",
    "heights = [i.text.strip().replace(\"'\", \"\") for i in soup.select('div.s-person-details__bio-stats>span')[2::4]]\n",
    "weights = [int(i.text.strip().replace(\" lbs\", \"\")) for i in soup.select('div.s-person-details__bio-stats>span')[3::4]]\n",
    "cities = [i.text.strip().split(', ')[0] for i in soup.select('span.s-person-card__content__person__location-item')[1::2]]\n",
    "states = [i.text.strip().split(', ')[1] for i in soup.select('span.s-person-card__content__person__location-item')[1::2]]"
   ]
  },
  {
   "cell_type": "code",
   "execution_count": 242,
   "metadata": {},
   "outputs": [],
   "source": [
    "ou = pd.DataFrame({\n",
    "    'jersey': jerseys,\n",
    "    'name': names,\n",
    "    'position': positions,\n",
    "    'level': levels,\n",
    "    'height': heights,\n",
    "    'weight': weights,\n",
    "    'city': cities,\n",
    "    'state': states,\n",
    "})"
   ]
  },
  {
   "cell_type": "code",
   "execution_count": 243,
   "metadata": {},
   "outputs": [],
   "source": [
    "# Change the wierd state-naming conventions\n",
    "ou_state_map = {\n",
    "    'Calif.': 'California',\n",
    "    'Colo': 'Colorado',\n",
    "    'Colo.': 'Colorado',\n",
    "    'Conn.': 'Connecticut',\n",
    "    'Fla.': 'Florida',\n",
    "    'Ga.': 'Georgia',\n",
    "    'Hawaii': 'Hawaii',\n",
    "    'Ill.': 'Illinois',\n",
    "    'Ind.': 'Indiana',\n",
    "    'Kan.': 'Kansas',\n",
    "    'Ky.': 'Kentucky',\n",
    "    'Md.': 'Maryland',\n",
    "    'Mich.': 'Michigan',\n",
    "    'Mo.': 'Missouri',\n",
    "    'N.C.': 'North Carolina',\n",
    "    'N.J.': 'New Jersey',\n",
    "    'Neb.': 'Nebraska',\n",
    "    'Nev.': 'Nevada',\n",
    "    'Ohio': 'Ohio',\n",
    "    'Okla.': 'Oklahoma',\n",
    "    'Pa.': 'Pennsylvania',\n",
    "    'S.C.': 'South Carolina',\n",
    "    'Tenn.': 'Tennessee',\n",
    "    'Texas': 'Texas',\n",
    "    'Va.': 'Virginia',\n",
    "    'Wash.': 'Washington',\n",
    "}\n",
    "\n",
    "# Change the classman notation\n",
    "ou_level_map = {\n",
    "    'Fr.': 'Freshman',\n",
    "    'R-Sr.': 'Redshirt Senior',\n",
    "    'So.': 'Sophomore',\n",
    "    'R-Fr.': 'Redshirt Freshman',\n",
    "    'R-Jr.': 'Redshirt Junior',\n",
    "    'Jr.': 'Junior',\n",
    "    'R-So.': 'Redshirt Sophomore',\n",
    "    'Sr.': 'Senior',\n",
    "    'Red 5th': 'Redshirt 5th Year'\n",
    "}"
   ]
  },
  {
   "cell_type": "code",
   "execution_count": 244,
   "metadata": {},
   "outputs": [],
   "source": [
    "ou['height'] = ou.height.apply(lambda x: int(x.split(' ')[0]) * 12 + int(x.split(' ')[1]))\n",
    "ou['level'] = ou.level.map(ou_level_map)\n",
    "ou['state'] = ou.state.map(ou_state_map)"
   ]
  },
  {
   "cell_type": "code",
   "execution_count": 245,
   "metadata": {},
   "outputs": [
    {
     "data": {
      "text/html": [
       "<div>\n",
       "<style scoped>\n",
       "    .dataframe tbody tr th:only-of-type {\n",
       "        vertical-align: middle;\n",
       "    }\n",
       "\n",
       "    .dataframe tbody tr th {\n",
       "        vertical-align: top;\n",
       "    }\n",
       "\n",
       "    .dataframe thead th {\n",
       "        text-align: right;\n",
       "    }\n",
       "</style>\n",
       "<table border=\"1\" class=\"dataframe\">\n",
       "  <thead>\n",
       "    <tr style=\"text-align: right;\">\n",
       "      <th></th>\n",
       "      <th>jersey</th>\n",
       "      <th>name</th>\n",
       "      <th>position</th>\n",
       "      <th>level</th>\n",
       "      <th>height</th>\n",
       "      <th>weight</th>\n",
       "      <th>city</th>\n",
       "      <th>state</th>\n",
       "    </tr>\n",
       "  </thead>\n",
       "  <tbody>\n",
       "    <tr>\n",
       "      <th>0</th>\n",
       "      <td>0</td>\n",
       "      <td>Kalib Hicks</td>\n",
       "      <td>RB</td>\n",
       "      <td>Freshman</td>\n",
       "      <td>71</td>\n",
       "      <td>199</td>\n",
       "      <td>Denton</td>\n",
       "      <td>Texas</td>\n",
       "    </tr>\n",
       "    <tr>\n",
       "      <th>1</th>\n",
       "      <td>0</td>\n",
       "      <td>Derrick LeBlanc</td>\n",
       "      <td>DL</td>\n",
       "      <td>Freshman</td>\n",
       "      <td>77</td>\n",
       "      <td>278</td>\n",
       "      <td>Kissimmee</td>\n",
       "      <td>Florida</td>\n",
       "    </tr>\n",
       "    <tr>\n",
       "      <th>2</th>\n",
       "      <td>1</td>\n",
       "      <td>Jayden Gibson</td>\n",
       "      <td>WR</td>\n",
       "      <td>Sophomore</td>\n",
       "      <td>77</td>\n",
       "      <td>189</td>\n",
       "      <td>Winter Garden</td>\n",
       "      <td>Florida</td>\n",
       "    </tr>\n",
       "    <tr>\n",
       "      <th>3</th>\n",
       "      <td>1</td>\n",
       "      <td>Dasan McCullough</td>\n",
       "      <td>LB</td>\n",
       "      <td>Sophomore</td>\n",
       "      <td>77</td>\n",
       "      <td>222</td>\n",
       "      <td>Bloomington</td>\n",
       "      <td>Indiana</td>\n",
       "    </tr>\n",
       "    <tr>\n",
       "      <th>4</th>\n",
       "      <td>2</td>\n",
       "      <td>Jovantae Barnes</td>\n",
       "      <td>RB</td>\n",
       "      <td>Sophomore</td>\n",
       "      <td>72</td>\n",
       "      <td>206</td>\n",
       "      <td>Las Vegas</td>\n",
       "      <td>Nevada</td>\n",
       "    </tr>\n",
       "  </tbody>\n",
       "</table>\n",
       "</div>"
      ],
      "text/plain": [
       "   jersey              name position      level  height  weight   \n",
       "0       0       Kalib Hicks       RB   Freshman      71     199  \\\n",
       "1       0   Derrick LeBlanc       DL   Freshman      77     278   \n",
       "2       1     Jayden Gibson       WR  Sophomore      77     189   \n",
       "3       1  Dasan McCullough       LB  Sophomore      77     222   \n",
       "4       2   Jovantae Barnes       RB  Sophomore      72     206   \n",
       "\n",
       "            city    state  \n",
       "0         Denton    Texas  \n",
       "1      Kissimmee  Florida  \n",
       "2  Winter Garden  Florida  \n",
       "3    Bloomington  Indiana  \n",
       "4      Las Vegas   Nevada  "
      ]
     },
     "execution_count": 245,
     "metadata": {},
     "output_type": "execute_result"
    }
   ],
   "source": [
    "ou.head()"
   ]
  },
  {
   "cell_type": "code",
   "execution_count": 246,
   "metadata": {},
   "outputs": [
    {
     "name": "stdout",
     "output_type": "stream",
     "text": [
      "Texas Roster Pct: 31%\n",
      "Okla. Roster Pct: 17%\n"
     ]
    }
   ],
   "source": [
    "# How many players are from Texas compared to Oklahoma?\n",
    "tx_ou_player_count = len(ou[ou.state == 'Texas'])\n",
    "ok_ou_player_count = len(ou[ou.state == 'Oklahoma'])\n",
    "ou_roster_count = len(ou)\n",
    "\n",
    "print(\"Texas Roster Pct:\", f\"{tx_ou_player_count / ou_roster_count * 100:.0f}%\")\n",
    "print(\"Okla. Roster Pct:\", f\"{ok_ou_player_count / ou_roster_count * 100:.0f}%\")"
   ]
  },
  {
   "cell_type": "code",
   "execution_count": 247,
   "metadata": {},
   "outputs": [
    {
     "data": {
      "text/plain": [
       "state\n",
       "Texas             31\n",
       "Oklahoma          17\n",
       "Florida            6\n",
       "Nevada             4\n",
       "North Carolina     4\n",
       "Name: count, dtype: int64"
      ]
     },
     "execution_count": 247,
     "metadata": {},
     "output_type": "execute_result"
    }
   ],
   "source": [
    "ou.state.value_counts()[:5]"
   ]
  },
  {
   "cell_type": "code",
   "execution_count": 248,
   "metadata": {},
   "outputs": [],
   "source": [
    "ut_url = 'https://texassports.com/sports/football/roster'\n",
    "soup = BS(reqs.get(ut_url).content, 'html.parser')"
   ]
  },
  {
   "cell_type": "code",
   "execution_count": 249,
   "metadata": {},
   "outputs": [],
   "source": [
    "jerseys = [int(i.text.strip()) for i in soup.select('span.sidearm-roster-player-jersey-number')]\n",
    "names = [i.text.strip().split('\\n')[-1] for i in soup.select('div.sidearm-roster-player-name')]\n",
    "positions = [i.text.strip() for i in soup.select('span.sidearm-roster-player-position-long-short')][0::2]\n",
    "levels = [i.text for i in soup.select('div>div>span.sidearm-roster-player-academic-year')[1::2]][:99]\n",
    "heights = [i.text.replace('\"', '').replace(\"'\", \" \") for i in soup.select('span.sidearm-roster-player-height')][::2]\n",
    "weights = [int(i.text.replace(' lbs', '')) for i in soup.select('span.sidearm-roster-player-weight')][::2]\n",
    "cities = [i.text.split(', ')[0] for i in soup.select('span.sidearm-roster-player-hometown')][::2][:99]\n",
    "states = [i.text.split(', ')[1] for i in soup.select('span.sidearm-roster-player-hometown')][::2][:99]\n",
    "#set(states)"
   ]
  },
  {
   "cell_type": "code",
   "execution_count": 250,
   "metadata": {},
   "outputs": [],
   "source": [
    "ut_state_map = {\n",
    "    'Ala.': 'Alabama',\n",
    "    'Ariz.': 'Arizona',\n",
    "    'Calif.': 'California',\n",
    "    'Colo.': 'Colorado',\n",
    "    'D.C.': 'District of Columbia',\n",
    "    'Fla.': 'Florida',\n",
    "    'Hawaii': 'Hawaii',\n",
    "    'La.': 'Louisiana',\n",
    "    'Miss.': 'Mississippi',\n",
    "    'N.J.': 'New Jersey',\n",
    "    'Texas': 'Texas',\n",
    "    'Wash.': 'Washington',\n",
    "}"
   ]
  },
  {
   "cell_type": "code",
   "execution_count": 251,
   "metadata": {},
   "outputs": [],
   "source": [
    "ut = pd.DataFrame({\n",
    "    'jersey': jerseys,\n",
    "    'name': names,\n",
    "    'position': positions,\n",
    "    'level': levels,\n",
    "    'height': heights,\n",
    "    'weight': weights,\n",
    "    'city': cities,\n",
    "    'state': states,\n",
    "})"
   ]
  },
  {
   "cell_type": "code",
   "execution_count": 252,
   "metadata": {},
   "outputs": [
    {
     "data": {
      "text/html": [
       "<div>\n",
       "<style scoped>\n",
       "    .dataframe tbody tr th:only-of-type {\n",
       "        vertical-align: middle;\n",
       "    }\n",
       "\n",
       "    .dataframe tbody tr th {\n",
       "        vertical-align: top;\n",
       "    }\n",
       "\n",
       "    .dataframe thead th {\n",
       "        text-align: right;\n",
       "    }\n",
       "</style>\n",
       "<table border=\"1\" class=\"dataframe\">\n",
       "  <thead>\n",
       "    <tr style=\"text-align: right;\">\n",
       "      <th></th>\n",
       "      <th>jersey</th>\n",
       "      <th>name</th>\n",
       "      <th>position</th>\n",
       "      <th>level</th>\n",
       "      <th>height</th>\n",
       "      <th>weight</th>\n",
       "      <th>city</th>\n",
       "      <th>state</th>\n",
       "    </tr>\n",
       "  </thead>\n",
       "  <tbody>\n",
       "    <tr>\n",
       "      <th>0</th>\n",
       "      <td>0</td>\n",
       "      <td>Anthony Hill Jr.</td>\n",
       "      <td>LB</td>\n",
       "      <td>Freshman</td>\n",
       "      <td>6 3</td>\n",
       "      <td>229</td>\n",
       "      <td>Denton</td>\n",
       "      <td>Texas</td>\n",
       "    </tr>\n",
       "    <tr>\n",
       "      <th>1</th>\n",
       "      <td>0</td>\n",
       "      <td>Ja'Tavion Sanders</td>\n",
       "      <td>TE</td>\n",
       "      <td>Junior</td>\n",
       "      <td>6 2</td>\n",
       "      <td>250</td>\n",
       "      <td>Denton</td>\n",
       "      <td>Texas</td>\n",
       "    </tr>\n",
       "    <tr>\n",
       "      <th>2</th>\n",
       "      <td>1</td>\n",
       "      <td>Justice Finkley</td>\n",
       "      <td>EDGE</td>\n",
       "      <td>Sophomore</td>\n",
       "      <td>6 0</td>\n",
       "      <td>184</td>\n",
       "      <td>Trussville</td>\n",
       "      <td>Ala.</td>\n",
       "    </tr>\n",
       "    <tr>\n",
       "      <th>3</th>\n",
       "      <td>1</td>\n",
       "      <td>Xavier Worthy</td>\n",
       "      <td>WR</td>\n",
       "      <td>Junior</td>\n",
       "      <td>6 0</td>\n",
       "      <td>199</td>\n",
       "      <td>Fresno</td>\n",
       "      <td>Calif.</td>\n",
       "    </tr>\n",
       "    <tr>\n",
       "      <th>4</th>\n",
       "      <td>2</td>\n",
       "      <td>Johntay Cook II</td>\n",
       "      <td>WR</td>\n",
       "      <td>Freshman</td>\n",
       "      <td>6 0</td>\n",
       "      <td>202</td>\n",
       "      <td>DeSoto</td>\n",
       "      <td>Texas</td>\n",
       "    </tr>\n",
       "  </tbody>\n",
       "</table>\n",
       "</div>"
      ],
      "text/plain": [
       "   jersey               name position      level height  weight        city   \n",
       "0       0   Anthony Hill Jr.       LB   Freshman    6 3     229      Denton  \\\n",
       "1       0  Ja'Tavion Sanders       TE     Junior    6 2     250      Denton   \n",
       "2       1    Justice Finkley     EDGE  Sophomore    6 0     184  Trussville   \n",
       "3       1      Xavier Worthy       WR     Junior    6 0     199      Fresno   \n",
       "4       2    Johntay Cook II       WR   Freshman    6 0     202      DeSoto   \n",
       "\n",
       "    state  \n",
       "0   Texas  \n",
       "1   Texas  \n",
       "2    Ala.  \n",
       "3  Calif.  \n",
       "4   Texas  "
      ]
     },
     "execution_count": 252,
     "metadata": {},
     "output_type": "execute_result"
    }
   ],
   "source": [
    "ut.head()"
   ]
  },
  {
   "cell_type": "code",
   "execution_count": 253,
   "metadata": {},
   "outputs": [],
   "source": [
    "ut['height'] = ut.height.apply(lambda x: int(x.split(' ')[0]) * 12 + int(x.split(' ')[1]))\n",
    "ut['state'] = ut.state.map(ut_state_map)"
   ]
  },
  {
   "cell_type": "code",
   "execution_count": 254,
   "metadata": {},
   "outputs": [
    {
     "data": {
      "text/html": [
       "<div>\n",
       "<style scoped>\n",
       "    .dataframe tbody tr th:only-of-type {\n",
       "        vertical-align: middle;\n",
       "    }\n",
       "\n",
       "    .dataframe tbody tr th {\n",
       "        vertical-align: top;\n",
       "    }\n",
       "\n",
       "    .dataframe thead th {\n",
       "        text-align: right;\n",
       "    }\n",
       "</style>\n",
       "<table border=\"1\" class=\"dataframe\">\n",
       "  <thead>\n",
       "    <tr style=\"text-align: right;\">\n",
       "      <th></th>\n",
       "      <th>jersey</th>\n",
       "      <th>name</th>\n",
       "      <th>position</th>\n",
       "      <th>level</th>\n",
       "      <th>height</th>\n",
       "      <th>weight</th>\n",
       "      <th>city</th>\n",
       "      <th>state</th>\n",
       "    </tr>\n",
       "  </thead>\n",
       "  <tbody>\n",
       "    <tr>\n",
       "      <th>0</th>\n",
       "      <td>0</td>\n",
       "      <td>Anthony Hill Jr.</td>\n",
       "      <td>LB</td>\n",
       "      <td>Freshman</td>\n",
       "      <td>75</td>\n",
       "      <td>229</td>\n",
       "      <td>Denton</td>\n",
       "      <td>Texas</td>\n",
       "    </tr>\n",
       "    <tr>\n",
       "      <th>1</th>\n",
       "      <td>0</td>\n",
       "      <td>Ja'Tavion Sanders</td>\n",
       "      <td>TE</td>\n",
       "      <td>Junior</td>\n",
       "      <td>74</td>\n",
       "      <td>250</td>\n",
       "      <td>Denton</td>\n",
       "      <td>Texas</td>\n",
       "    </tr>\n",
       "    <tr>\n",
       "      <th>2</th>\n",
       "      <td>1</td>\n",
       "      <td>Justice Finkley</td>\n",
       "      <td>EDGE</td>\n",
       "      <td>Sophomore</td>\n",
       "      <td>72</td>\n",
       "      <td>184</td>\n",
       "      <td>Trussville</td>\n",
       "      <td>Alabama</td>\n",
       "    </tr>\n",
       "    <tr>\n",
       "      <th>3</th>\n",
       "      <td>1</td>\n",
       "      <td>Xavier Worthy</td>\n",
       "      <td>WR</td>\n",
       "      <td>Junior</td>\n",
       "      <td>72</td>\n",
       "      <td>199</td>\n",
       "      <td>Fresno</td>\n",
       "      <td>California</td>\n",
       "    </tr>\n",
       "    <tr>\n",
       "      <th>4</th>\n",
       "      <td>2</td>\n",
       "      <td>Johntay Cook II</td>\n",
       "      <td>WR</td>\n",
       "      <td>Freshman</td>\n",
       "      <td>72</td>\n",
       "      <td>202</td>\n",
       "      <td>DeSoto</td>\n",
       "      <td>Texas</td>\n",
       "    </tr>\n",
       "  </tbody>\n",
       "</table>\n",
       "</div>"
      ],
      "text/plain": [
       "   jersey               name position      level  height  weight        city   \n",
       "0       0   Anthony Hill Jr.       LB   Freshman      75     229      Denton  \\\n",
       "1       0  Ja'Tavion Sanders       TE     Junior      74     250      Denton   \n",
       "2       1    Justice Finkley     EDGE  Sophomore      72     184  Trussville   \n",
       "3       1      Xavier Worthy       WR     Junior      72     199      Fresno   \n",
       "4       2    Johntay Cook II       WR   Freshman      72     202      DeSoto   \n",
       "\n",
       "        state  \n",
       "0       Texas  \n",
       "1       Texas  \n",
       "2     Alabama  \n",
       "3  California  \n",
       "4       Texas  "
      ]
     },
     "execution_count": 254,
     "metadata": {},
     "output_type": "execute_result"
    }
   ],
   "source": [
    "ut.head()"
   ]
  },
  {
   "cell_type": "code",
   "execution_count": 255,
   "metadata": {},
   "outputs": [
    {
     "name": "stdout",
     "output_type": "stream",
     "text": [
      "Texas Roster Pct: 75%\n"
     ]
    }
   ],
   "source": [
    "tx_ut_player_count = len(ut[ut.state == 'Texas'])\n",
    "ut_roster_count = len(ut)\n",
    "\n",
    "print(\"Texas Roster Pct:\", f\"{tx_ut_player_count / ut_roster_count * 100:.0f}%\")"
   ]
  }
 ],
 "metadata": {
  "kernelspec": {
   "display_name": "Python 3.9.5 64-bit",
   "language": "python",
   "name": "python3"
  },
  "language_info": {
   "codemirror_mode": {
    "name": "ipython",
    "version": 3
   },
   "file_extension": ".py",
   "mimetype": "text/x-python",
   "name": "python",
   "nbconvert_exporter": "python",
   "pygments_lexer": "ipython3",
   "version": "3.9.5"
  },
  "orig_nbformat": 4,
  "vscode": {
   "interpreter": {
    "hash": "1ff0ee95b15f3b11f974f78ebca16c3e32e1ce848180e018a371a8b6a2f73fac"
   }
  }
 },
 "nbformat": 4,
 "nbformat_minor": 2
}
